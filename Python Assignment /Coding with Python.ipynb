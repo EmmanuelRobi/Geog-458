{
 "cells": [
  {
   "cell_type": "markdown",
   "metadata": {},
   "source": [
    "Emmanuel Robi \n",
    "Geog 458A \n",
    "February 13, 2018 \n",
    "\n",
    "Coding with Python"
   ]
  },
  {
   "cell_type": "markdown",
   "metadata": {},
   "source": [
    "Part 1 Getting Started\n",
    "\n"
   ]
  },
  {
   "cell_type": "markdown",
   "metadata": {},
   "source": [
    "Task 1\n",
    "\n",
    "Here is a link to the site: http://amueller.github.io/sklearn_tutorial/#/\n",
    "\n",
    "I thought this notebook was interesting because over basic concepts of machine learning, useful examples of algorithms, and working with text data.  \n"
   ]
  },
  {
   "cell_type": "markdown",
   "metadata": {},
   "source": [
    "Task 2 \n",
    "\n",
    "A) \n",
    "\n",
    "A few of the packages that are widely popular are \"Requests\" \"Scrappy\". Requests is to add content like headers, form data, multipart files, and parameters. Scrappy is used to extract data using APIs or as a general-purpose web crawler. \n",
    "\n",
    "Here is a link: https://pythontips.com/2013/07/30/20-python-libraries-you-cant-live-without/\n",
    " \n",
    "\n",
    "B)\n",
    "\n",
    "A library that serves a similar purpose as ggplots does for r is and library also called ggplot for python.\n",
    "\n",
    "Here is a link: http://ggplot.yhathq.com/\n",
    "\n",
    "C) \n",
    "\n",
    "Numpy is a python library for data analysis that uses something like dataframes. \n",
    "\n",
    "Here is the link: http://www.numpy.org/ "
   ]
  },
  {
   "cell_type": "markdown",
   "metadata": {},
   "source": [
    "Task 3\n",
    " \n",
    "- Calling a library. \n",
    "    - R uses \"library(\"library_name\")  \n",
    "    - Python uses \"import library_name\" \n",
    "- Finding rows \n",
    "    - R uses dim(data)\n",
    "    - Python uses data.shape\n",
    "- Looking a first row\n",
    "    - R uses head(data, 1)\n",
    "    - Python uses data.head(1)\n",
    "        \n",
    "    \n",
    "  "
   ]
  },
  {
   "cell_type": "markdown",
   "metadata": {},
   "source": [
    "Part 2 – Strings and Basic Syntax"
   ]
  },
  {
   "cell_type": "markdown",
   "metadata": {},
   "source": [
    "Task 4"
   ]
  },
  {
   "cell_type": "code",
   "execution_count": 591,
   "metadata": {},
   "outputs": [
    {
     "name": "stdout",
     "output_type": "stream",
     "text": [
      "Hello, my names is Emmanuel. This is Part 2. We are coding in python. \n"
     ]
    }
   ],
   "source": [
    "#Created A Few Objects\n",
    "x = \"Hello, my names is Emmanuel.\"\n",
    "y = \" This is Part 2.\"\n",
    "z = \" We are coding in python. \"\n",
    "\n",
    "#Printed Objects To Make A Sentence\n",
    "print(x + y + z)"
   ]
  },
  {
   "cell_type": "markdown",
   "metadata": {},
   "source": [
    "Task 5"
   ]
  },
  {
   "cell_type": "code",
   "execution_count": 592,
   "metadata": {},
   "outputs": [
    {
     "name": "stdout",
     "output_type": "stream",
     "text": [
      "HELLO, MY NAMES IS EMMANUEL. THIS IS PART 2. WE ARE CODING IN PYTHON. 1\n"
     ]
    }
   ],
   "source": [
    "#Makes 1 Into a String\n",
    "a = str(1)\n",
    "\n",
    "#Adds 1 To String And Makes String Uppercase \n",
    "print(x + y + z + a).upper()"
   ]
  },
  {
   "cell_type": "markdown",
   "metadata": {},
   "source": [
    "Task 6\n"
   ]
  },
  {
   "cell_type": "code",
   "execution_count": 593,
   "metadata": {
    "scrolled": true
   },
   "outputs": [
    {
     "name": "stdout",
     "output_type": "stream",
     "text": [
      "5\n",
      "19\n"
     ]
    }
   ],
   "source": [
    "#Creates List\n",
    "my_list = [x, y, z, a]\n",
    "\n",
    "#Spacing\n",
    "s = \"\"\n",
    "\n",
    "s.join(my_list)\n",
    "\n",
    "#Counts Character \"e\" \n",
    "print(s.join(my_list).count(\"e\")) \n",
    "\n",
    "#Finds Where \"Emmanuel\" Is In String\n",
    "print(s.join(my_list).find(\"Emmanuel\")) \n",
    "\n"
   ]
  },
  {
   "cell_type": "markdown",
   "metadata": {},
   "source": [
    "Task 7"
   ]
  },
  {
   "cell_type": "code",
   "execution_count": 594,
   "metadata": {},
   "outputs": [
    {
     "name": "stdout",
     "output_type": "stream",
     "text": [
      "Hello, my names is Emmanuel. This i\n"
     ]
    }
   ],
   "source": [
    "#Merges Objects To One String \n",
    "string = str(x + y + z + a)\n",
    "\n",
    "#Splits String\n",
    "first_half = len(string)\n",
    "\n",
    "#Prints String\n",
    "print(string[0:first_half/2])"
   ]
  },
  {
   "cell_type": "markdown",
   "metadata": {},
   "source": [
    "Task 8"
   ]
  },
  {
   "cell_type": "code",
   "execution_count": 595,
   "metadata": {},
   "outputs": [
    {
     "name": "stdout",
     "output_type": "stream",
     "text": [
      "Hello, my names is Emmanuel. This is Part 2. We are coding in python. \n",
      "Hello, my names is Daniel. This is Part 2. We are coding in python. 1\n"
     ]
    }
   ],
   "source": [
    "#Prints String With \"1\" Removed \n",
    "print(string.strip(\"1\")) \n",
    "\n",
    "#Prints String Replacing \"Emmanuel\" With \"Daniel\"\n",
    "print(string.replace(\"Emmanuel\", \"Daniel\"))"
   ]
  },
  {
   "cell_type": "markdown",
   "metadata": {},
   "source": [
    "Task 9"
   ]
  },
  {
   "cell_type": "code",
   "execution_count": 596,
   "metadata": {
    "scrolled": true
   },
   "outputs": [
    {
     "name": "stdout",
     "output_type": "stream",
     "text": [
      "['Hello,', 'my', 'names', 'is', 'Emmanuel.', 'This', 'is', 'Part', '2.', 'We', 'are', 'coding', 'in', 'python.', '1']\n",
      "['Hello,', 'my', 'names', 'is', 'Emmanuel.', 'This', 'is', 'Part', 'FRIEND', '2.', 'We', 'are', 'coding', 'in', 'python.', '1']\n"
     ]
    }
   ],
   "source": [
    "#Creates List Again \n",
    "New_String = string.split()\n",
    "\n",
    "#Prints List \n",
    "print(New_String)\n",
    "\n",
    "#Adds \"FRIEND\" To The Middle\n",
    "New_String.insert(8, \"FRIEND\") \n",
    "\n",
    "#Prints New Sentence \n",
    "print(New_String)"
   ]
  },
  {
   "cell_type": "markdown",
   "metadata": {},
   "source": [
    "Part 3 – Conditionals"
   ]
  },
  {
   "cell_type": "markdown",
   "metadata": {},
   "source": [
    "Task 10"
   ]
  },
  {
   "cell_type": "code",
   "execution_count": 597,
   "metadata": {
    "scrolled": true
   },
   "outputs": [
    {
     "name": "stdout",
     "output_type": "stream",
     "text": [
      "84 4th Quartile\n"
     ]
    }
   ],
   "source": [
    "#Import Random Tool Create Random Variable\n",
    "import random\n",
    "for x in range(1):  \n",
    "    x = random.randint(1,101)\n",
    "    if x <= 25:  \n",
    "        print(str(x) + \" 1st Quartile\")\n",
    "    if x > 25 and x < 51: \n",
    "        print(str(x) + \" 2nd Quartile\")\n",
    "    if x > 50 and x < 75: \n",
    "        print(str(x) + \" 3rd Quartile\")\n",
    "    if x > 74: \n",
    "        print(str(x) + \" 4th Quartile\")  \n",
    "        "
   ]
  },
  {
   "cell_type": "markdown",
   "metadata": {},
   "source": [
    "Part 4 – Loops"
   ]
  },
  {
   "cell_type": "code",
   "execution_count": null,
   "metadata": {},
   "outputs": [],
   "source": []
  },
  {
   "cell_type": "markdown",
   "metadata": {},
   "source": [
    "Task 11"
   ]
  },
  {
   "cell_type": "code",
   "execution_count": 598,
   "metadata": {},
   "outputs": [
    {
     "name": "stdout",
     "output_type": "stream",
     "text": [
      "('Warning, residents of', 'Seattle', ', temperatures will reach sub-zero temperatures today, please stay indoors if possible')\n",
      "('Warning, residents of', 'Los Angeles', ', temperatures will reach sub-zero temperatures today, please stay indoors if possible')\n",
      "('Warning, residents of', 'Houston', ', temperatures will reach sub-zero temperatures today, please stay indoors if possible')\n",
      "('Warning, residents of', 'Phoenix', ', temperatures will reach sub-zero temperatures today, please stay indoors if possible')\n",
      "('Warning, residents of', 'New York', ', temperatures will reach sub-zero temperatures today, please stay indoors if possible')\n",
      "('Warning, residents of', 'Las Vegas', ', temperatures will reach sub-zero temperatures today, please stay indoors if possible')\n"
     ]
    }
   ],
   "source": [
    "#Creates List of Cities \n",
    "for CITY in [\"Seattle\", \"Los Angeles\", \"Houston\", \"Phoenix\", \"New York\", \"Las Vegas\"]:\n",
    "#Loop Prints Warning\n",
    "    print(\"Warning, residents of\", CITY, \", temperatures will reach sub-zero temperatures today, please stay indoors if possible\")"
   ]
  },
  {
   "cell_type": "markdown",
   "metadata": {},
   "source": [
    "Task 12"
   ]
  },
  {
   "cell_type": "code",
   "execution_count": 599,
   "metadata": {},
   "outputs": [
    {
     "data": {
      "text/plain": [
       "['U://Users/Zhang/Geog_458/Washington.shp',\n",
       " 'U://Users/Zhang/Geog_458/California.shp',\n",
       " 'U://Users/Zhang/Geog_458/Nevada.shp',\n",
       " 'U://Users/Zhang/Geog_458/Idaho.shp',\n",
       " 'U://Users/Zhang/Geog_458/Montana.shp',\n",
       " 'U://Users/Zhang/Geog_458/Utah.shp',\n",
       " 'U://Users/Zhang/Geog_458/Colorado.shp',\n",
       " 'U://Users/Zhang/Geog_458/New Mexico.shp']"
      ]
     },
     "execution_count": 599,
     "metadata": {},
     "output_type": "execute_result"
    }
   ],
   "source": [
    "#Stores Results\n",
    "Results = []\n",
    "#Stores State Names \n",
    "for filename in [\"Washington\", \"California\", \"Nevada\", \"Idaho\", \"Montana\", \"Utah\", \"Colorado\", \"New Mexico\"]:\n",
    "    #Inserts States Into Pathway into Results \n",
    "   Results.append(\"U://Users/Zhang/Geog_458/\" + filename +\".shp\")\n",
    "\n",
    "Results"
   ]
  },
  {
   "cell_type": "markdown",
   "metadata": {},
   "source": [
    "Task 13"
   ]
  },
  {
   "cell_type": "code",
   "execution_count": 602,
   "metadata": {},
   "outputs": [
    {
     "name": "stdout",
     "output_type": "stream",
     "text": [
      "T-minus 10\n",
      "T-minus 9\n",
      "T-minus 8\n",
      "T-minus 7\n",
      "T-minus 6\n",
      "T-minus 5\n",
      "T-minus 4\n",
      "T-minus 3\n",
      "T-minus 2\n",
      "T-minus 1\n",
      "T-minus 0\n"
     ]
    }
   ],
   "source": [
    "#Set Count To 11\n",
    "COUNT = 11\n",
    "\n",
    "#Loop Ends when Count = 0\n",
    "while(COUNT > 0):\n",
    "    COUNT = COUNT - 1\n",
    "    print(\"T-minus \" + str(COUNT))"
   ]
  },
  {
   "cell_type": "markdown",
   "metadata": {},
   "source": [
    "Part 5 – Functions"
   ]
  },
  {
   "cell_type": "markdown",
   "metadata": {},
   "source": [
    "Task 13"
   ]
  },
  {
   "cell_type": "code",
   "execution_count": 606,
   "metadata": {},
   "outputs": [
    {
     "name": "stdout",
     "output_type": "stream",
     "text": [
      "T-minus 19\n",
      "T-minus 18\n",
      "T-minus 17\n",
      "T-minus 16\n",
      "T-minus 15\n",
      "T-minus 14\n",
      "T-minus 13\n",
      "T-minus 12\n",
      "T-minus 11\n",
      "T-minus 10\n",
      "T-minus 9\n",
      "T-minus 8\n",
      "T-minus 7\n",
      "T-minus 6\n",
      "T-minus 5\n",
      "T-minus 4\n",
      "T-minus 3\n",
      "T-minus 2\n",
      "T-minus 1\n",
      "T-minus 0\n"
     ]
    }
   ],
   "source": [
    "#Defined A Function, \"x\" is The Dummy Variable\n",
    "def countdown(x): \n",
    "    while(x > 0):\n",
    "        x = x - 1\n",
    "        print(\"T-minus \" + str(x))\n",
    "        \n",
    "countdown(20)"
   ]
  },
  {
   "cell_type": "markdown",
   "metadata": {},
   "source": [
    "Task 14"
   ]
  },
  {
   "cell_type": "code",
   "execution_count": 607,
   "metadata": {},
   "outputs": [
    {
     "name": "stdout",
     "output_type": "stream",
     "text": [
      "Error: Value is less than 0 or greater than 100\n"
     ]
    }
   ],
   "source": [
    "def quartile_calc(A): \n",
    "\n",
    "#Prints Which Quartile \n",
    "    if A <= 25:  \n",
    "        print(str(A) + \" 1st Quartile\")\n",
    "    if A > 25 and A < 51: \n",
    "        print(str(A) + \" 2nd Quartile\")\n",
    "    if A > 50 and A < 75: \n",
    "        print(str(A) + \" 3rd Quartile\")\n",
    "    if A > 74 and A < 101: \n",
    "        print(str(A) + \" 4th Quartile\")  \n",
    "    if A < 0 or A > 100: \n",
    "        print(\"Error: Value is less than 0 or greater than 100\")\n",
    "        \n",
    "quartile_calc(101) "
   ]
  }
 ],
 "metadata": {
  "kernelspec": {
   "display_name": "Python 2",
   "language": "python",
   "name": "python2"
  },
  "language_info": {
   "codemirror_mode": {
    "name": "ipython",
    "version": 2
   },
   "file_extension": ".py",
   "mimetype": "text/x-python",
   "name": "python",
   "nbconvert_exporter": "python",
   "pygments_lexer": "ipython2",
   "version": "2.7.15"
  }
 },
 "nbformat": 4,
 "nbformat_minor": 2
}
